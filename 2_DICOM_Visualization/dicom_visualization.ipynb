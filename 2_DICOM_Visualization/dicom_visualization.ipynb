import pydicom
import matplotlib.pyplot as plt
import cv2
import numpy as np

# DICOM 파일 불러오기
path = "sample_data/sample.dcm"
dicom = pydicom.dcmread(path)
img = dicom.pixel_array

print("Patient ID:", dicom.PatientID)
print("Image size:", img.shape)

# 이미지 정규화 및 시각화
img_norm = cv2.normalize(img, None, 0, 255, cv2.NORM_MINMAX)
plt.imshow(img_norm, cmap='gray')
plt.title("DICOM Image")
plt.axis('off')
plt.show()
